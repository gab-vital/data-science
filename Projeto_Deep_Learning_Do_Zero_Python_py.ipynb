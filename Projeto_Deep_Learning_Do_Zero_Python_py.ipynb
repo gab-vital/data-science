{
  "nbformat": 4,
  "nbformat_minor": 0,
  "metadata": {
    "colab": {
      "provenance": [],
      "authorship_tag": "ABX9TyPD2w/UN5lFtvpLdWLZL1rU",
      "include_colab_link": true
    },
    "kernelspec": {
      "name": "python3",
      "display_name": "Python 3"
    },
    "language_info": {
      "name": "python"
    }
  },
  "cells": [
    {
      "cell_type": "markdown",
      "metadata": {
        "id": "view-in-github",
        "colab_type": "text"
      },
      "source": [
        "<a href=\"https://colab.research.google.com/github/vital-dev-full-stack/data-science/blob/main/Projeto_Deep_Learning_Do_Zero_Python_py.ipynb\" target=\"_parent\"><img src=\"https://colab.research.google.com/assets/colab-badge.svg\" alt=\"Open In Colab\"/></a>"
      ]
    },
    {
      "cell_type": "code",
      "execution_count": 41,
      "metadata": {
        "id": "-H7cna03C8Gj"
      },
      "outputs": [],
      "source": [
        "import numpy as np\n",
        "import torch\n",
        "import torch.nn.functional as F\n",
        "import torchvision\n",
        "import matplotlib.pyplot as plt\n",
        "from time import time\n",
        "from torchvision import datasets, transforms\n",
        "from torch import nn, optim\n"
      ]
    },
    {
      "cell_type": "code",
      "source": [
        "transform = transforms.ToTensor() #definindo a conversão de iimagem para tensor\n",
        "\n",
        "trainset = datasets.MNIST('./MNIST_data', download=True, train=True, transform=transform) # Carrega a parte de treino do dataset\n",
        "trainloader = torch.utils.data.DataLoader(trainset, batch_size=64, shuffle=True)  # Cria um buffer para pegar os dados por partes\n",
        "\n",
        "valset = datasets.MNIST('./MNIST_data', download=True, train=False, transform=transform) #Carrega a parte de validação do dataset\n",
        "valloader = torch.utils.data.DataLoader(valset, batch_size=64, shuffle=True)  # Cria um buffer para pegar os dados por partes\n"
      ],
      "metadata": {
        "id": "8y5X4s7rDTUG"
      },
      "execution_count": 42,
      "outputs": []
    },
    {
      "cell_type": "code",
      "source": [
        "dataiter = iter(trainloader)\n",
        "imagens, etiquetas = next(dataiter)\n",
        "plt.imshow(imagens[0].numpy().squeeze(), cmap='gray_r');"
      ],
      "metadata": {
        "colab": {
          "base_uri": "https://localhost:8080/",
          "height": 265
        },
        "id": "tlTfsvoTFxKI",
        "outputId": "bfafcf6f-0c4e-47fb-e6c9-362670d43166"
      },
      "execution_count": 43,
      "outputs": [
        {
          "output_type": "display_data",
          "data": {
            "text/plain": [
              "<Figure size 432x288 with 1 Axes>"
            ],
            "image/png": "[encoded data removed]"
          },
          "metadata": {
            "needs_background": "light"
          }
        }
      ]
    },
    {
      "cell_type": "code",
      "source": [
        "print(imagens[0].shape) #para verificar as dimensões do tensor de cada imagem\n",
        "print(etiquetas[0].shape) #para verificar as dimensões do tensor de cada etiqueta"
      ],
      "metadata": {
        "colab": {
          "base_uri": "https://localhost:8080/"
        },
        "id": "wG83tZeEJcDa",
        "outputId": "7025c03a-fb8f-4c6a-90a7-8fbc590bc9ca"
      },
      "execution_count": 44,
      "outputs": [
        {
          "output_type": "stream",
          "name": "stdout",
          "text": [
            "torch.Size([1, 28, 28])\n",
            "torch.Size([])\n"
          ]
        }
      ]
    },
    {
      "cell_type": "code",
      "source": [
        "class Modelo(nn.Module):\n",
        "  def __init__(self):\n",
        "      super(Modelo, self).__init__()\n",
        "      self.linear1 = nn.Linear(28*28, 128) #camada de entrada , 784 neurônios que se ligam a 128\n",
        "      self.linear2 = nn.Linear(128, 64) #camada interna 1, 128 neurônios que se ligam a 64\n",
        "      self.linear3 = nn.Linear(64, 10) #camada interna 2, 64 neurônios que se ligam a 10\n",
        "      #para a camada de saída não é necessário definir nada pois só precisamos pegar o outpyt da camada interna 2\n",
        "\n",
        "  def forward(self, X):\n",
        "      X = F.relu(relu(self.linear1(X))) # função de ativiação da camada de entrada para a camada interna 1\n",
        "      X = F.relu(relu(self.linear2(X))) # função de ativiação da camada interna 1 para a camada interna 2\n",
        "      X = self.linear3(X) # função de ativiação da camada interna 2 para a camada de saída, nesse caso f(x) = x\n",
        "      return F.log_softmax(X,dim=1) #dados utilizados para calcular a perda\n"
      ],
      "metadata": {
        "id": "BmFpRNldJ0ws"
      },
      "execution_count": 45,
      "outputs": []
    },
    {
      "cell_type": "code",
      "source": [
        "def treino(modelo, trainloader, device):\n",
        "\n",
        "    otimizador = optim.SGD(modelo,parameters(), lr=0.01, momentum=0.5) #define a política de aualização dos pesos e da bias\n",
        "    inicio - time() #timer para sabermos quanto tempo levou o treino\n",
        "\n",
        "    criterio = nn.NLLLoss() #definindo o criterio para calcular a perda\n",
        "    EPOCHS = 10 # numero de epochs que o algoritmo rodará\n",
        "    modelo.train() # ativando o modo de treinamento do modelo\n",
        "\n",
        "    for epoch in range(EPOCHS):\n",
        "        perda_acumulada = 0 # inicilização da perda acumulada da epoch em questtão\n",
        "\n",
        "        for imagens, etiquetas in trainloarder:\n",
        "\n",
        "            imagens = imagens.view(imagens.shpae[0], -1) # convertendo as imagens para \"vetores\" de 28*28 casa para  ficarem compatíveis com\n",
        "            otimizador.zero_grad() #zerando os gradientes por conta do ciclo anterior \n",
        "\n",
        "            output = modelo(imagens.to(device)) # colocando os dados no modelo\n",
        "            perda_instantanea = criterio(output, etiquetas.to(device)) #calculado a perda da epoch em questão\n",
        "            \n",
        "            perda_instantanea.backward() # back propagation a partir da perda\n",
        "\n",
        "            otimizador.step() #atualizando os pesos e a bias\n",
        "\n",
        "            perda_acumulada += perda_instantanea.item() # atualização da perda acumulada\n",
        "\n",
        "        else:\n",
        "          print(\"Epoch {} -Perda resultante: {}\".format(epoch+1, perda_acumulada/len(trainloader)))\n",
        "    print(\"\\nTempo de treino (em minutos=\", (time()-inicio)/60)"
      ],
      "metadata": {
        "id": "AW4mO0BnL2PB"
      },
      "execution_count": 46,
      "outputs": []
    },
    {
      "cell_type": "code",
      "source": [
        "def validacao (modelo, valloader, device):\n",
        "    contas_corretas, conta_todas = 0,0\n",
        "    for imagens, etiquetas in valloader:\n",
        "      for i in range(len(etiquetas)):\n",
        "        img = imagens[i].vie(1,784)\n",
        "        # desativar o autograd para acelerar a validação. Grafos computacionais dinâmicos tem um custo alto de processamento\n",
        "        with torch.no_grad():\n",
        "            logps= modelo(img.to(device)) # output do modelo em escala logaritmica\n",
        "\n",
        "        ps = torch.exp(logps) # converte output para escala normal (lembrando que é um tensor)\n",
        "        probab = list(ps.cpu().numpy()[0])\n",
        "        etiqueta_pred = probab.index(max(probab)) #converte o tensor em um número, no caso, o número que o modelo previu\n",
        "        etiqueta_certa = etiquetas.numpy()[i]\n",
        "        if(etiqueta_certa  == etiqueta_pred): # compara a previsão com o valor correto\n",
        "          contas_corretas += 1\n",
        "        conta_todas +=1\n",
        "    print(\"Total de imagens testadas =\", conta_todas)\n",
        "    print(\"\\nPrevisão do modelo = {}%\".format(conta_corretas*100/conta_todas))"
      ],
      "metadata": {
        "id": "A8iLJlXMIRqE"
      },
      "execution_count": 47,
      "outputs": []
    },
    {
      "cell_type": "code",
      "source": [
        "modelo = Modelo()\n",
        "device = torch.device(\"cuda\" if torch.cuda.is_available() else \"cpu\")\n",
        "modelo.to(device)"
      ],
      "metadata": {
        "colab": {
          "base_uri": "https://localhost:8080/"
        },
        "id": "mJhfCPf6RyBS",
        "outputId": "b49f3dea-60d0-4012-eaed-bb1c5ebea56b"
      },
      "execution_count": 48,
      "outputs": [
        {
          "output_type": "execute_result",
          "data": {
            "text/plain": [
              "Modelo(\n",
              "  (linear1): Linear(in_features=784, out_features=128, bias=True)\n",
              "  (linear2): Linear(in_features=128, out_features=64, bias=True)\n",
              "  (linear3): Linear(in_features=64, out_features=10, bias=True)\n",
              ")"
            ]
          },
          "metadata": {},
          "execution_count": 48
        }
      ]
    }
  ]
}